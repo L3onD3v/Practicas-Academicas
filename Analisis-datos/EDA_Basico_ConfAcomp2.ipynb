{
 "cells": [
  {
   "cell_type": "markdown",
   "id": "ae839a68",
   "metadata": {},
   "source": [
    "\n",
    "<p align=\"center\">\n",
    "  <img src=\"eda_assets/banner.png\" alt=\"EDA Banner\" style=\"width:100%;max-width:900px;\">\n",
    "</p>\n",
    "\n",
    "# EDA: Análisis Exploratorio de Datos — Nivel Básico\n",
    "\n",
    "**Fecha de generación:** 2025-09-17 21:34  \n",
    "**Autor:** Tú 💻  \n",
    "**Objetivo:** Comprender, con ejemplos simples, cómo **explorar**, **resumir** y **entender** datos antes de aplicar modelos.\n",
    "\n",
    "> Este cuaderno está organizado para aprender paso a paso, con conceptos esenciales, buenas prácticas y pequeñas actividades.\n"
   ]
  },
  {
   "cell_type": "markdown",
   "id": "f6700cf8",
   "metadata": {},
   "source": [
    "\n",
    "## 1) ¿Qué es el EDA?\n",
    "\n",
    "El **Análisis Exploratorio de Datos (EDA)** es el proceso inicial para **conocer** un conjunto de datos.  \n",
    "Sirve para detectar **patrones**, **errores**, **valores atípicos**, y para formular **ideas** que luego pueden convertirse en decisiones o preguntas más precisas.\n",
    "\n",
    "**En términos simples:** mirar los datos desde distintos ángulos para entender su naturaleza (cómo son) y su trascendencia (para qué sirven).\n"
   ]
  },
  {
   "cell_type": "markdown",
   "id": "3399a420",
   "metadata": {},
   "source": [
    "\n",
    "## 2) Mini caso: cadena de cafeterías\n",
    "\n",
    "La gerencia nota que las ventas totales son estables, pero **sospecha** que pueden mejorar.  \n",
    "Un analista decide **explorar** por **producto**, **hora del día**, **sucursal** y **tipo de cliente** (mostrador vs. app).\n",
    "\n",
    "**Idea clave:** a veces el total oculta comportamientos distintos según el **contexto**.\n"
   ]
  },
  {
   "cell_type": "markdown",
   "id": "b702cf36",
   "metadata": {},
   "source": [
    "\n",
    "## 3) Flujo de trabajo simple de EDA\n",
    "\n",
    "1. **Plantear pregunta:** ¿Qué queremos responder?  \n",
    "2. **Cargar y observar datos:** columnas, tipos, valores faltantes.  \n",
    "3. **Clasificar variables:** numéricas vs. categóricas.  \n",
    "4. **Resumir:** medias, medianas, frecuencias.  \n",
    "5. **Visualizar:** histogramas, gráficos de dispersión, boxplots.  \n",
    "6. **Relacionar variables:** ¿hay correlaciones o diferencias entre grupos?  \n",
    "7. **Conclusiones y acciones:** ¿qué decisión sugieren los datos?\n"
   ]
  },
  {
   "cell_type": "markdown",
   "id": "ae31adce",
   "metadata": {},
   "source": [
    "\n",
    "## 4) Análisis univariado (una variable)\n",
    "\n",
    "- **Media:** promedio de los valores. Útil si no hay valores extremos que distorsionen.  \n",
    "- **Mediana:** valor central al ordenar. Robusta ante valores extremos.  \n",
    "- **Moda:** valor más frecuente (puede no existir o haber varias).  \n",
    "- **Tablas de frecuencia:** ¿cuántas veces aparece cada valor o categoría?\n"
   ]
  },
  {
   "cell_type": "code",
   "execution_count": null,
   "id": "32866445",
   "metadata": {},
   "outputs": [],
   "source": [
    "\n",
    "# Media, mediana y moda (con datos sencillos)\n",
    "import numpy as np\n",
    "from scipy import stats\n",
    "\n",
    "notas = [3.0, 3.5, 4.0, 4.5, 5.0, 3.5, 4.0]\n",
    "\n",
    "media = np.mean(notas)\n",
    "mediana = np.median(notas)\n",
    "\n",
    "# stats.mode devuelve un objeto; usamos .mode[0] en SciPy<1.11\n",
    "try:\n",
    "    moda = stats.mode(notas, keepdims=True).mode[0]\n",
    "except Exception:\n",
    "    # Fallback simple por si cambia la API\n",
    "    vals, counts = np.unique(notas, return_counts=True)\n",
    "    moda = vals[counts.argmax()]\n",
    "\n",
    "print(\"Media:\", media)\n",
    "print(\"Mediana:\", mediana)\n",
    "print(\"Moda:\", moda)"
   ]
  },
  {
   "cell_type": "markdown",
   "id": "515abb47",
   "metadata": {},
   "source": [
    "\n",
    "**Tabla de frecuencia (edades — ejemplo):**\n",
    "\n",
    "<p>\n",
    "  <img src=\"eda_assets/bar_frecuencia_edades.png\" alt=\"Frecuencia de edades\" style=\"max-width:700px;\">\n",
    "</p>\n"
   ]
  },
  {
   "cell_type": "code",
   "execution_count": null,
   "id": "70ab58af",
   "metadata": {},
   "outputs": [],
   "source": [
    "\n",
    "# Tabla de frecuencia rápida con pandas\n",
    "import pandas as pd\n",
    "\n",
    "edades = [25, 30, 35, 30, 40, 35, 30, 25, 40, 35]\n",
    "tabla = (pd.Series(edades).value_counts()\n",
    "         .sort_index()\n",
    "         .rename_axis(\"Edad\")\n",
    "         .reset_index(name=\"Frecuencia Absoluta\"))\n",
    "tabla[\"Frecuencia Relativa\"] = (tabla[\"Frecuencia Absoluta\"] / len(edades)).round(3)\n",
    "tabla[\"Frecuencia Acumulada\"] = tabla[\"Frecuencia Absoluta\"].cumsum()\n",
    "tabla"
   ]
  },
  {
   "cell_type": "markdown",
   "id": "2f8f5370",
   "metadata": {},
   "source": [
    "\n",
    "## 5) Dispersión y variabilidad\n",
    "\n",
    "- **Varianza:** mide cuánto se alejan los datos del promedio (en unidades al cuadrado).  \n",
    "- **Desviación estándar:** raíz cuadrada de la varianza (en las mismas unidades que los datos).\n",
    "\n",
    "> Si la desviación estándar es **pequeña**, los valores están más **concentrados**; si es **grande**, hay más **dispersión**.\n"
   ]
  },
  {
   "cell_type": "code",
   "execution_count": null,
   "id": "e9b6b500",
   "metadata": {},
   "outputs": [],
   "source": [
    "\n",
    "import numpy as np\n",
    "\n",
    "edades = [20, 22, 24, 26, 28]\n",
    "varianza = np.var(edades)           # población (básico para ilustrar)\n",
    "desv_std = np.sqrt(varianza)\n",
    "\n",
    "print(\"Varianza:\", varianza)\n",
    "print(\"Desviación estándar:\", desv_std)"
   ]
  },
  {
   "cell_type": "markdown",
   "id": "b3a64f69",
   "metadata": {},
   "source": [
    "\n",
    "**Ejemplos visuales (imágenes):**\n",
    "\n",
    "- Histograma (forma de la distribución):  \n",
    "  <img src=\"eda_assets/hist_imc.png\" alt=\"Histograma IMC\" style=\"max-width:700px;\">\n",
    "\n",
    "- Boxplot (detección de valores atípicos por grupos):  \n",
    "  <img src=\"eda_assets/box_fumador_prima.png\" alt=\"Boxplot Fumador vs Prima\" style=\"max-width:700px;\">\n"
   ]
  },
  {
   "cell_type": "markdown",
   "id": "8086aed1",
   "metadata": {},
   "source": [
    "\n",
    "## 6) Análisis bivariado (dos variables)\n",
    "\n",
    "Sirve para **comparar** o **relacionar** dos variables.  \n",
    "Ejemplo: **edad** vs. **prima del seguro** (¿las personas con más edad pagan primas más altas?).\n",
    "\n",
    "**Gráfico de dispersión (scatter):**\n",
    "\n",
    "<p>\n",
    "  <img src=\"eda_assets/scatter_edad_prima.png\" alt=\"Scatter edad vs prima\" style=\"max-width:700px;\">\n",
    "</p>\n"
   ]
  },
  {
   "cell_type": "code",
   "execution_count": null,
   "id": "f39bd5fd",
   "metadata": {},
   "outputs": [],
   "source": [
    "\n",
    "# Correlación simple de ejemplo (numérica)\n",
    "import pandas as pd\n",
    "import numpy as np\n",
    "\n",
    "# Datos sintéticos\n",
    "edad = np.array([20, 25, 30, 35, 40, 45, 50])\n",
    "prima = np.array([150, 155, 160, 168, 175, 185, 195])\n",
    "\n",
    "df_corr = pd.DataFrame({\"edad\": edad, \"prima\": prima})\n",
    "df_corr.corr()  # matriz de correlación (más cerca de 1 => relación positiva)"
   ]
  },
  {
   "cell_type": "markdown",
   "id": "3587e4f2",
   "metadata": {},
   "source": [
    "\n",
    "## 7) Actividad guiada (mini dataset)\n",
    "\n",
    "Usaremos un archivo CSV de ejemplo (ventas por sucursal/horario/producto):  \n",
    "**Ruta:** `/mnt/data/cafeteria_ventas_mini.csv`\n",
    "\n",
    "### Tarea\n",
    "1. Cargar el CSV en un `DataFrame`.\n",
    "2. Ver `head()`, `info()` y `describe()`.\n",
    "3. Hacer una **tabla de frecuencia** por `producto` y por `hora`.\n",
    "4. **Pregunta:** ¿Qué combinación *producto-hora* parece más fuerte?\n"
   ]
  },
  {
   "cell_type": "code",
   "execution_count": null,
   "id": "37107db3",
   "metadata": {},
   "outputs": [],
   "source": [
    "\n",
    "import pandas as pd\n",
    "\n",
    "df = pd.read_csv(r\"/mnt/data/cafeteria_ventas_mini.csv\")\n",
    "print(\"Dimensiones:\", df.shape)\n",
    "display(df.head())\n",
    "\n",
    "print(\"\\nInformación:\")\n",
    "display(df.info())\n",
    "\n",
    "print(\"\\nResumen numérico:\")\n",
    "display(df.describe(include=\"all\"))\n",
    "\n",
    "print(\"\\nFrecuencia por producto:\")\n",
    "display(df[\"producto\"].value_counts())\n",
    "\n",
    "print(\"\\nFrecuencia por hora:\")\n",
    "display(df[\"hora\"].value_counts())\n",
    "\n",
    "print(\"\\nVentas promedio por producto-hora:\")\n",
    "display(df.groupby([\"producto\",\"hora\"])[\"ventas\"].mean().round(2).sort_values(ascending=False))"
   ]
  },
  {
   "cell_type": "markdown",
   "id": "3219e59b",
   "metadata": {},
   "source": [
    "\n",
    "## 8) Checklist final\n",
    "\n",
    "- [ ] ¿Planteaste una **pregunta** clara?  \n",
    "- [ ] ¿Observaste la **estructura** de los datos (columnas, tipos, nulos)?  \n",
    "- [ ] ¿Resumiste con **medidas** y **frecuencias**?  \n",
    "- [ ] ¿Visualizaste al menos un **histograma**, un **dispersión** o un **boxplot**?  \n",
    "- [ ] ¿Anotaste **ideas y conclusiones** que te acerquen a una decisión?\n",
    "\n",
    "---\n",
    "\n",
    "### Ejercicios sugeridos (básicos)\n",
    "1. Repite la tabla de frecuencia para otra columna (por ejemplo, `sucursal`).  \n",
    "2. Calcula **media**, **mediana** y **moda** de una lista de datos que elijas.  \n",
    "3. Crea un gráfico de dispersión para dos columnas numéricas de un `DataFrame` propio.  \n",
    "4. Escribe 2 conclusiones cortas a partir de un gráfico.\n"
   ]
  },
  {
   "cell_type": "markdown",
   "id": "0190b593",
   "metadata": {},
   "source": [
    "\n",
    "## 9) Apéndice rápido (Python/Pandas)\n",
    "\n",
    "- Cargar CSV: `pd.read_csv(\"archivo.csv\")`  \n",
    "- Vistazo rápido: `df.head()`, `df.info()`, `df.describe()`  \n",
    "- Selección: `df[\"col\"]`, `df[[\"a\",\"b\"]]`  \n",
    "- Filtros: `df[df[\"col\"] > 0]`  \n",
    "- Agrupar: `df.groupby(\"col\")[\"x\"].mean()`  \n",
    "- Conteo: `df[\"col\"].value_counts()`  \n",
    "- Guardar: `df.to_csv(\"salida.csv\", index=False)`\n"
   ]
  }
 ],
 "metadata": {},
 "nbformat": 4,
 "nbformat_minor": 5
}
