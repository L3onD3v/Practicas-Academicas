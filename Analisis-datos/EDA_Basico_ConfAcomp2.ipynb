{
 "cells": [
  {
   "cell_type": "markdown",
   "id": "ae839a68",
   "metadata": {},
   "source": [
    "# EDA: Análisis Exploratorio de Datos en Python\n",
    " \n",
    "**Autor:** León Ceballos \n",
    "\n",
    "**Objetivo:** Comprender, con ejemplos simples, cómo **explorar**, **resumir** y **entender** datos antes de aplicar modelos.\n",
    "\n",
    "> Este cuaderno está organizado para aprender paso a paso, con conceptos esenciales, buenas prácticas y pequeñas actividades.\n"
   ]
  },
  {
   "cell_type": "markdown",
   "id": "f6700cf8",
   "metadata": {},
   "source": [
    "\n",
    "## 1) ¿Qué es el EDA?\n",
    "\n",
    "El **Análisis Exploratorio de Datos (EDA)** es el proceso inicial para **conocer** un conjunto de datos.  \n",
    "Sirve para detectar **patrones**, **errores**, **valores atípicos**, y para formular **ideas** que luego pueden convertirse en decisiones o preguntas más precisas.\n",
    "\n",
    "**En términos simples:** mirar los datos desde distintos ángulos para entender su naturaleza (cómo son) y su trascendencia (para qué sirven).\n"
   ]
  },
  {
   "cell_type": "markdown",
   "id": "3399a420",
   "metadata": {},
   "source": [
    "\n",
    "## 2) Mini caso: cadena de cafeterías\n",
    "\n",
    "La gerencia nota que las ventas totales son estables, pero **sospecha** que pueden mejorar.  \n",
    "Un analista decide **explorar** por **producto**, **hora del día**, **sucursal** y **tipo de cliente** (mostrador vs. app).\n",
    "\n",
    "**Idea clave:** a veces el total oculta comportamientos distintos según el **contexto**.\n"
   ]
  },
  {
   "cell_type": "markdown",
   "id": "b702cf36",
   "metadata": {},
   "source": [
    "\n",
    "## 3) Flujo de trabajo simple de EDA\n",
    "\n",
    "1. **Plantear pregunta:** ¿Qué queremos responder?  \n",
    "2. **Cargar y observar datos:** columnas, tipos, valores faltantes.  \n",
    "3. **Clasificar variables:** numéricas vs. categóricas.  \n",
    "4. **Resumir:** medias, medianas, frecuencias.  \n",
    "5. **Visualizar:** histogramas, gráficos de dispersión, boxplots.  \n",
    "6. **Relacionar variables:** ¿hay correlaciones o diferencias entre grupos?  \n",
    "7. **Conclusiones y acciones:** ¿qué decisión sugieren los datos?\n"
   ]
  },
  {
   "cell_type": "markdown",
   "id": "ae31adce",
   "metadata": {},
   "source": [
    "\n",
    "## 4) Análisis univariado (una variable)\n",
    "\n",
    "- **Media:** promedio de los valores. Útil si no hay valores extremos que distorsionen.  \n",
    "- **Mediana:** valor central al ordenar. Robusta ante valores extremos.  \n",
    "- **Moda:** valor más frecuente (puede no existir o haber varias).  \n",
    "- **Tablas de frecuencia:** ¿cuántas veces aparece cada valor o categoría?\n"
   ]
  },
  {
   "cell_type": "code",
   "execution_count": 1,
   "id": "32866445",
   "metadata": {},
   "outputs": [
    {
     "name": "stdout",
     "output_type": "stream",
     "text": [
      "Media: 3.9285714285714284\n",
      "Mediana: 4.0\n",
      "Moda: 3.5\n"
     ]
    }
   ],
   "source": [
    "\n",
    "# Media, mediana y moda (con datos sencillos)\n",
    "import numpy as np\n",
    "from scipy import stats\n",
    "\n",
    "notas = [3.0, 3.5, 4.0, 4.5, 5.0, 3.5, 4.0]\n",
    "\n",
    "media = np.mean(notas)\n",
    "mediana = np.median(notas)\n",
    "\n",
    "# stats.mode devuelve un objeto; usamos .mode[0] en SciPy<1.11\n",
    "try:\n",
    "    moda = stats.mode(notas, keepdims=True).mode[0]\n",
    "except Exception:\n",
    "    # Fallback simple por si cambia la API\n",
    "    vals, counts = np.unique(notas, return_counts=True)\n",
    "    moda = vals[counts.argmax()]\n",
    "\n",
    "print(\"Media:\", media)\n",
    "print(\"Mediana:\", mediana)\n",
    "print(\"Moda:\", moda)"
   ]
  },
  {
   "cell_type": "markdown",
   "id": "515abb47",
   "metadata": {},
   "source": [
    "\n",
    "**Tabla de frecuencia (edades — ejemplo):**\n"
   ]
  },
  {
   "cell_type": "code",
   "execution_count": 2,
   "id": "70ab58af",
   "metadata": {},
   "outputs": [
    {
     "data": {
      "text/html": [
       "<div>\n",
       "<style scoped>\n",
       "    .dataframe tbody tr th:only-of-type {\n",
       "        vertical-align: middle;\n",
       "    }\n",
       "\n",
       "    .dataframe tbody tr th {\n",
       "        vertical-align: top;\n",
       "    }\n",
       "\n",
       "    .dataframe thead th {\n",
       "        text-align: right;\n",
       "    }\n",
       "</style>\n",
       "<table border=\"1\" class=\"dataframe\">\n",
       "  <thead>\n",
       "    <tr style=\"text-align: right;\">\n",
       "      <th></th>\n",
       "      <th>Edad</th>\n",
       "      <th>Frecuencia Absoluta</th>\n",
       "      <th>Frecuencia Relativa</th>\n",
       "      <th>Frecuencia Acumulada</th>\n",
       "    </tr>\n",
       "  </thead>\n",
       "  <tbody>\n",
       "    <tr>\n",
       "      <th>0</th>\n",
       "      <td>25</td>\n",
       "      <td>2</td>\n",
       "      <td>0.2</td>\n",
       "      <td>2</td>\n",
       "    </tr>\n",
       "    <tr>\n",
       "      <th>1</th>\n",
       "      <td>30</td>\n",
       "      <td>3</td>\n",
       "      <td>0.3</td>\n",
       "      <td>5</td>\n",
       "    </tr>\n",
       "    <tr>\n",
       "      <th>2</th>\n",
       "      <td>35</td>\n",
       "      <td>3</td>\n",
       "      <td>0.3</td>\n",
       "      <td>8</td>\n",
       "    </tr>\n",
       "    <tr>\n",
       "      <th>3</th>\n",
       "      <td>40</td>\n",
       "      <td>2</td>\n",
       "      <td>0.2</td>\n",
       "      <td>10</td>\n",
       "    </tr>\n",
       "  </tbody>\n",
       "</table>\n",
       "</div>"
      ],
      "text/plain": [
       "   Edad  Frecuencia Absoluta  Frecuencia Relativa  Frecuencia Acumulada\n",
       "0    25                    2                  0.2                     2\n",
       "1    30                    3                  0.3                     5\n",
       "2    35                    3                  0.3                     8\n",
       "3    40                    2                  0.2                    10"
      ]
     },
     "execution_count": 2,
     "metadata": {},
     "output_type": "execute_result"
    }
   ],
   "source": [
    "\n",
    "# Tabla de frecuencia rápida con pandas\n",
    "import pandas as pd\n",
    "\n",
    "edades = [25, 30, 35, 30, 40, 35, 30, 25, 40, 35]\n",
    "tabla = (pd.Series(edades).value_counts()\n",
    "         .sort_index()\n",
    "         .rename_axis(\"Edad\")\n",
    "         .reset_index(name=\"Frecuencia Absoluta\"))\n",
    "tabla[\"Frecuencia Relativa\"] = (tabla[\"Frecuencia Absoluta\"] / len(edades)).round(3)\n",
    "tabla[\"Frecuencia Acumulada\"] = tabla[\"Frecuencia Absoluta\"].cumsum()\n",
    "tabla"
   ]
  },
  {
   "cell_type": "markdown",
   "id": "2f8f5370",
   "metadata": {},
   "source": [
    "\n",
    "## 5) Dispersión y variabilidad\n",
    "\n",
    "- **Varianza:** mide cuánto se alejan los datos del promedio (en unidades al cuadrado).  \n",
    "- **Desviación estándar:** raíz cuadrada de la varianza (en las mismas unidades que los datos).\n",
    "\n",
    "> Si la desviación estándar es **pequeña**, los valores están más **concentrados**; si es **grande**, hay más **dispersión**.\n"
   ]
  },
  {
   "cell_type": "code",
   "execution_count": 3,
   "id": "e9b6b500",
   "metadata": {},
   "outputs": [
    {
     "name": "stdout",
     "output_type": "stream",
     "text": [
      "Varianza: 8.0\n",
      "Desviación estándar: 2.8284271247461903\n"
     ]
    }
   ],
   "source": [
    "\n",
    "import numpy as np\n",
    "\n",
    "edades = [20, 22, 24, 26, 28]\n",
    "varianza = np.var(edades)           # población (básico para ilustrar)\n",
    "desv_std = np.sqrt(varianza)\n",
    "\n",
    "print(\"Varianza:\", varianza)\n",
    "print(\"Desviación estándar:\", desv_std)"
   ]
  },
  {
   "cell_type": "markdown",
   "id": "b3a64f69",
   "metadata": {},
   "source": [
    "\n",
    "**Ejemplos visuales (imágenes):**\n",
    "\n",
    "- Histograma (forma de la distribución):  \n",
    "\n",
    "- Boxplot (detección de valores atípicos por grupos):  \n"
   ]
  },
  {
   "cell_type": "markdown",
   "id": "8086aed1",
   "metadata": {},
   "source": [
    "\n",
    "## 6) Análisis bivariado (dos variables)\n",
    "\n",
    "Sirve para **comparar** o **relacionar** dos variables.  \n",
    "Ejemplo: **edad** vs. **prima del seguro** (¿las personas con más edad pagan primas más altas?).\n",
    "\n",
    "**Gráfico de dispersión (scatter):**\n"
   ]
  },
  {
   "cell_type": "code",
   "execution_count": 4,
   "id": "f39bd5fd",
   "metadata": {},
   "outputs": [
    {
     "data": {
      "text/html": [
       "<div>\n",
       "<style scoped>\n",
       "    .dataframe tbody tr th:only-of-type {\n",
       "        vertical-align: middle;\n",
       "    }\n",
       "\n",
       "    .dataframe tbody tr th {\n",
       "        vertical-align: top;\n",
       "    }\n",
       "\n",
       "    .dataframe thead th {\n",
       "        text-align: right;\n",
       "    }\n",
       "</style>\n",
       "<table border=\"1\" class=\"dataframe\">\n",
       "  <thead>\n",
       "    <tr style=\"text-align: right;\">\n",
       "      <th></th>\n",
       "      <th>edad</th>\n",
       "      <th>prima</th>\n",
       "    </tr>\n",
       "  </thead>\n",
       "  <tbody>\n",
       "    <tr>\n",
       "      <th>edad</th>\n",
       "      <td>1.000000</td>\n",
       "      <td>0.991095</td>\n",
       "    </tr>\n",
       "    <tr>\n",
       "      <th>prima</th>\n",
       "      <td>0.991095</td>\n",
       "      <td>1.000000</td>\n",
       "    </tr>\n",
       "  </tbody>\n",
       "</table>\n",
       "</div>"
      ],
      "text/plain": [
       "           edad     prima\n",
       "edad   1.000000  0.991095\n",
       "prima  0.991095  1.000000"
      ]
     },
     "execution_count": 4,
     "metadata": {},
     "output_type": "execute_result"
    }
   ],
   "source": [
    "\n",
    "# Correlación simple de ejemplo (numérica)\n",
    "import pandas as pd\n",
    "import numpy as np\n",
    "\n",
    "# Datos sintéticos\n",
    "edad = np.array([20, 25, 30, 35, 40, 45, 50])\n",
    "prima = np.array([150, 155, 160, 168, 175, 185, 195])\n",
    "\n",
    "df_corr = pd.DataFrame({\"edad\": edad, \"prima\": prima})\n",
    "df_corr.corr()  # matriz de correlación (más cerca de 1 => relación positiva)"
   ]
  },
  {
   "cell_type": "markdown",
   "id": "3587e4f2",
   "metadata": {},
   "source": [
    "\n",
    "## 7) Actividad guiada (mini dataset)\n",
    "\n",
    "Usaremos un archivo CSV de ejemplo (ventas por sucursal/horario/producto):  \n",
    "**Ruta:** `/mnt/data/cafeteria_ventas_mini.csv`\n",
    "\n",
    "### Tarea\n",
    "1. Cargar el CSV en un `DataFrame`.\n",
    "2. Ver `head()`, `info()` y `describe()`.\n",
    "3. Hacer una **tabla de frecuencia** por `producto` y por `hora`.\n",
    "4. **Pregunta:** ¿Qué combinación *producto-hora* parece más fuerte?\n"
   ]
  },
  {
   "cell_type": "code",
   "execution_count": 7,
   "id": "37107db3",
   "metadata": {},
   "outputs": [
    {
     "name": "stdout",
     "output_type": "stream",
     "text": [
      "Dimensiones: (60, 5)\n"
     ]
    },
    {
     "data": {
      "text/html": [
       "<div>\n",
       "<style scoped>\n",
       "    .dataframe tbody tr th:only-of-type {\n",
       "        vertical-align: middle;\n",
       "    }\n",
       "\n",
       "    .dataframe tbody tr th {\n",
       "        vertical-align: top;\n",
       "    }\n",
       "\n",
       "    .dataframe thead th {\n",
       "        text-align: right;\n",
       "    }\n",
       "</style>\n",
       "<table border=\"1\" class=\"dataframe\">\n",
       "  <thead>\n",
       "    <tr style=\"text-align: right;\">\n",
       "      <th></th>\n",
       "      <th>sucursal</th>\n",
       "      <th>producto</th>\n",
       "      <th>hora</th>\n",
       "      <th>tipo_cliente</th>\n",
       "      <th>ventas</th>\n",
       "    </tr>\n",
       "  </thead>\n",
       "  <tbody>\n",
       "    <tr>\n",
       "      <th>0</th>\n",
       "      <td>Universidad</td>\n",
       "      <td>Café</td>\n",
       "      <td>3-6pm</td>\n",
       "      <td>Mostrador</td>\n",
       "      <td>23</td>\n",
       "    </tr>\n",
       "    <tr>\n",
       "      <th>1</th>\n",
       "      <td>Residencial</td>\n",
       "      <td>Café</td>\n",
       "      <td>7-9am</td>\n",
       "      <td>Mostrador</td>\n",
       "      <td>18</td>\n",
       "    </tr>\n",
       "    <tr>\n",
       "      <th>2</th>\n",
       "      <td>Residencial</td>\n",
       "      <td>Café</td>\n",
       "      <td>7-9am</td>\n",
       "      <td>App</td>\n",
       "      <td>7</td>\n",
       "    </tr>\n",
       "    <tr>\n",
       "      <th>3</th>\n",
       "      <td>Centro</td>\n",
       "      <td>Café</td>\n",
       "      <td>7-9am</td>\n",
       "      <td>Mostrador</td>\n",
       "      <td>8</td>\n",
       "    </tr>\n",
       "    <tr>\n",
       "      <th>4</th>\n",
       "      <td>Residencial</td>\n",
       "      <td>Pastel</td>\n",
       "      <td>3-6pm</td>\n",
       "      <td>App</td>\n",
       "      <td>1</td>\n",
       "    </tr>\n",
       "  </tbody>\n",
       "</table>\n",
       "</div>"
      ],
      "text/plain": [
       "      sucursal producto   hora tipo_cliente  ventas\n",
       "0  Universidad     Café  3-6pm    Mostrador      23\n",
       "1  Residencial     Café  7-9am    Mostrador      18\n",
       "2  Residencial     Café  7-9am          App       7\n",
       "3       Centro     Café  7-9am    Mostrador       8\n",
       "4  Residencial   Pastel  3-6pm          App       1"
      ]
     },
     "metadata": {},
     "output_type": "display_data"
    },
    {
     "name": "stdout",
     "output_type": "stream",
     "text": [
      "\n",
      "Información:\n",
      "<class 'pandas.core.frame.DataFrame'>\n",
      "RangeIndex: 60 entries, 0 to 59\n",
      "Data columns (total 5 columns):\n",
      " #   Column        Non-Null Count  Dtype \n",
      "---  ------        --------------  ----- \n",
      " 0   sucursal      60 non-null     object\n",
      " 1   producto      60 non-null     object\n",
      " 2   hora          60 non-null     object\n",
      " 3   tipo_cliente  60 non-null     object\n",
      " 4   ventas        60 non-null     int64 \n",
      "dtypes: int64(1), object(4)\n",
      "memory usage: 2.5+ KB\n"
     ]
    },
    {
     "data": {
      "text/plain": [
       "None"
      ]
     },
     "metadata": {},
     "output_type": "display_data"
    },
    {
     "name": "stdout",
     "output_type": "stream",
     "text": [
      "\n",
      "Resumen numérico:\n"
     ]
    },
    {
     "data": {
      "text/html": [
       "<div>\n",
       "<style scoped>\n",
       "    .dataframe tbody tr th:only-of-type {\n",
       "        vertical-align: middle;\n",
       "    }\n",
       "\n",
       "    .dataframe tbody tr th {\n",
       "        vertical-align: top;\n",
       "    }\n",
       "\n",
       "    .dataframe thead th {\n",
       "        text-align: right;\n",
       "    }\n",
       "</style>\n",
       "<table border=\"1\" class=\"dataframe\">\n",
       "  <thead>\n",
       "    <tr style=\"text-align: right;\">\n",
       "      <th></th>\n",
       "      <th>sucursal</th>\n",
       "      <th>producto</th>\n",
       "      <th>hora</th>\n",
       "      <th>tipo_cliente</th>\n",
       "      <th>ventas</th>\n",
       "    </tr>\n",
       "  </thead>\n",
       "  <tbody>\n",
       "    <tr>\n",
       "      <th>count</th>\n",
       "      <td>60</td>\n",
       "      <td>60</td>\n",
       "      <td>60</td>\n",
       "      <td>60</td>\n",
       "      <td>60.000000</td>\n",
       "    </tr>\n",
       "    <tr>\n",
       "      <th>unique</th>\n",
       "      <td>3</td>\n",
       "      <td>4</td>\n",
       "      <td>3</td>\n",
       "      <td>2</td>\n",
       "      <td>NaN</td>\n",
       "    </tr>\n",
       "    <tr>\n",
       "      <th>top</th>\n",
       "      <td>Centro</td>\n",
       "      <td>Café</td>\n",
       "      <td>3-6pm</td>\n",
       "      <td>Mostrador</td>\n",
       "      <td>NaN</td>\n",
       "    </tr>\n",
       "    <tr>\n",
       "      <th>freq</th>\n",
       "      <td>22</td>\n",
       "      <td>17</td>\n",
       "      <td>21</td>\n",
       "      <td>41</td>\n",
       "      <td>NaN</td>\n",
       "    </tr>\n",
       "    <tr>\n",
       "      <th>mean</th>\n",
       "      <td>NaN</td>\n",
       "      <td>NaN</td>\n",
       "      <td>NaN</td>\n",
       "      <td>NaN</td>\n",
       "      <td>12.900000</td>\n",
       "    </tr>\n",
       "    <tr>\n",
       "      <th>std</th>\n",
       "      <td>NaN</td>\n",
       "      <td>NaN</td>\n",
       "      <td>NaN</td>\n",
       "      <td>NaN</td>\n",
       "      <td>7.909874</td>\n",
       "    </tr>\n",
       "    <tr>\n",
       "      <th>min</th>\n",
       "      <td>NaN</td>\n",
       "      <td>NaN</td>\n",
       "      <td>NaN</td>\n",
       "      <td>NaN</td>\n",
       "      <td>1.000000</td>\n",
       "    </tr>\n",
       "    <tr>\n",
       "      <th>25%</th>\n",
       "      <td>NaN</td>\n",
       "      <td>NaN</td>\n",
       "      <td>NaN</td>\n",
       "      <td>NaN</td>\n",
       "      <td>5.000000</td>\n",
       "    </tr>\n",
       "    <tr>\n",
       "      <th>50%</th>\n",
       "      <td>NaN</td>\n",
       "      <td>NaN</td>\n",
       "      <td>NaN</td>\n",
       "      <td>NaN</td>\n",
       "      <td>14.000000</td>\n",
       "    </tr>\n",
       "    <tr>\n",
       "      <th>75%</th>\n",
       "      <td>NaN</td>\n",
       "      <td>NaN</td>\n",
       "      <td>NaN</td>\n",
       "      <td>NaN</td>\n",
       "      <td>20.000000</td>\n",
       "    </tr>\n",
       "    <tr>\n",
       "      <th>max</th>\n",
       "      <td>NaN</td>\n",
       "      <td>NaN</td>\n",
       "      <td>NaN</td>\n",
       "      <td>NaN</td>\n",
       "      <td>24.000000</td>\n",
       "    </tr>\n",
       "  </tbody>\n",
       "</table>\n",
       "</div>"
      ],
      "text/plain": [
       "       sucursal producto   hora tipo_cliente     ventas\n",
       "count        60       60     60           60  60.000000\n",
       "unique        3        4      3            2        NaN\n",
       "top      Centro     Café  3-6pm    Mostrador        NaN\n",
       "freq         22       17     21           41        NaN\n",
       "mean        NaN      NaN    NaN          NaN  12.900000\n",
       "std         NaN      NaN    NaN          NaN   7.909874\n",
       "min         NaN      NaN    NaN          NaN   1.000000\n",
       "25%         NaN      NaN    NaN          NaN   5.000000\n",
       "50%         NaN      NaN    NaN          NaN  14.000000\n",
       "75%         NaN      NaN    NaN          NaN  20.000000\n",
       "max         NaN      NaN    NaN          NaN  24.000000"
      ]
     },
     "metadata": {},
     "output_type": "display_data"
    },
    {
     "name": "stdout",
     "output_type": "stream",
     "text": [
      "\n",
      "Frecuencia por producto:\n"
     ]
    },
    {
     "data": {
      "text/plain": [
       "producto\n",
       "Café         17\n",
       "Pastel       17\n",
       "Bagel        14\n",
       "Cold Brew    12\n",
       "Name: count, dtype: int64"
      ]
     },
     "metadata": {},
     "output_type": "display_data"
    },
    {
     "name": "stdout",
     "output_type": "stream",
     "text": [
      "\n",
      "Frecuencia por hora:\n"
     ]
    },
    {
     "data": {
      "text/plain": [
       "hora\n",
       "3-6pm     21\n",
       "12-2pm    20\n",
       "7-9am     19\n",
       "Name: count, dtype: int64"
      ]
     },
     "metadata": {},
     "output_type": "display_data"
    },
    {
     "name": "stdout",
     "output_type": "stream",
     "text": [
      "\n",
      "Ventas promedio por producto-hora:\n"
     ]
    },
    {
     "data": {
      "text/plain": [
       "producto   hora  \n",
       "Pastel     7-9am     22.00\n",
       "Café       3-6pm     19.80\n",
       "Cold Brew  12-2pm    17.50\n",
       "Bagel      7-9am     16.60\n",
       "           3-6pm     16.00\n",
       "Cold Brew  7-9am     16.00\n",
       "           3-6pm     13.17\n",
       "Café       7-9am     10.89\n",
       "Pastel     12-2pm    10.25\n",
       "Bagel      12-2pm    10.20\n",
       "Café       12-2pm     9.33\n",
       "Pastel     3-6pm      3.67\n",
       "Name: ventas, dtype: float64"
      ]
     },
     "metadata": {},
     "output_type": "display_data"
    }
   ],
   "source": [
    "\n",
    "import pandas as pd\n",
    "import os\n",
    "\n",
    "#Ruta en la cuál guardas tu archivo\n",
    "os.chdir(\"E:\\\\Toshiba\\\\Repositorio\\\\Practicas-Academicas\\\\Analisis-datos\")\n",
    "\n",
    "# Aquí ubicamos el archivo\n",
    "df = pd.read_csv(r\"cafeteria_ventas_mini.csv\")\n",
    "print(\"Dimensiones:\", df.shape) # Veamos cuántas filas y columnas existen\n",
    "display(df.head()) # Esto nos devuelve por defecto las primeras 5 filas del DataFrame.\n",
    "\n",
    "print(\"\\nInformación:\")\n",
    "display(df.info()) # se usa en Jupyter Notebook) muestra la tabla de manera más visual y ordenada.\n",
    "\n",
    "print(\"\\nResumen numérico:\")\n",
    "display(df.describe(include=\"all\"))\n",
    "\n",
    "print(\"\\nFrecuencia por producto:\")\n",
    "display(df[\"producto\"].value_counts())\n",
    "\n",
    "print(\"\\nFrecuencia por hora:\")\n",
    "display(df[\"hora\"].value_counts())\n",
    "\n",
    "print(\"\\nVentas promedio por producto-hora:\")\n",
    "display(df.groupby([\"producto\",\"hora\"])[\"ventas\"].mean().round(2).sort_values(ascending=False))"
   ]
  },
  {
   "cell_type": "markdown",
   "id": "3219e59b",
   "metadata": {},
   "source": [
    "\n",
    "## 8) Checklist final\n",
    "\n",
    "- [ ] ¿Planteaste una **pregunta** clara?  \n",
    "- [ ] ¿Observaste la **estructura** de los datos (columnas, tipos, nulos)?  \n",
    "- [ ] ¿Resumiste con **medidas** y **frecuencias**?  \n",
    "- [ ] ¿Visualizaste al menos un **histograma**, un **dispersión** o un **boxplot**?  \n",
    "- [ ] ¿Anotaste **ideas y conclusiones** que te acerquen a una decisión?\n",
    "\n",
    "---\n",
    "\n",
    "### Ejercicios sugeridos (básicos)\n",
    "1. Repite la tabla de frecuencia para otra columna (por ejemplo, `sucursal`).  \n",
    "2. Calcula **media**, **mediana** y **moda** de una lista de datos que elijas.  \n",
    "3. Crea un gráfico de dispersión para dos columnas numéricas de un `DataFrame` propio.  \n",
    "4. Escribe 2 conclusiones cortas a partir de un gráfico.\n"
   ]
  },
  {
   "cell_type": "markdown",
   "id": "0190b593",
   "metadata": {},
   "source": [
    "\n",
    "## 9) Apéndice rápido (Python/Pandas)\n",
    "\n",
    "- Cargar CSV: `pd.read_csv(\"archivo.csv\")`  \n",
    "- Vistazo rápido: `df.head()`, `df.info()`, `df.describe()`  \n",
    "- Selección: `df[\"col\"]`, `df[[\"a\",\"b\"]]`  \n",
    "- Filtros: `df[df[\"col\"] > 0]`  \n",
    "- Agrupar: `df.groupby(\"col\")[\"x\"].mean()`  \n",
    "- Conteo: `df[\"col\"].value_counts()`  \n",
    "- Guardar: `df.to_csv(\"salida.csv\", index=False)`\n"
   ]
  }
 ],
 "metadata": {
  "kernelspec": {
   "display_name": "Python [conda env:base] *",
   "language": "python",
   "name": "conda-base-py"
  },
  "language_info": {
   "codemirror_mode": {
    "name": "ipython",
    "version": 3
   },
   "file_extension": ".py",
   "mimetype": "text/x-python",
   "name": "python",
   "nbconvert_exporter": "python",
   "pygments_lexer": "ipython3",
   "version": "3.11.5"
  }
 },
 "nbformat": 4,
 "nbformat_minor": 5
}
