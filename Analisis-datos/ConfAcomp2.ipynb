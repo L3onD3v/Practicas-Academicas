{
 "cells": [
  {
   "attachments": {},
   "cell_type": "markdown",
   "id": "57b4465e-7cb6-4b0e-a3fd-3ec3ab33b723",
   "metadata": {},
   "source": [
    "# **Análisis de datos: el futuro de las organizaciones**"
   ]
  },
  {
   "cell_type": "markdown",
   "id": "836bb905-c3b6-41cf-91d1-02d5d39894a9",
   "metadata": {},
   "source": [
    "### Material de socialización de la conferencia web de acompañamiento de la seguina semana temática"
   ]
  },
  {
   "attachments": {},
   "cell_type": "markdown",
   "id": "b9f3530d-f307-4ff2-9d39-079a7b275121",
   "metadata": {},
   "source": [
    "El análisis de datos se ha convertido en un pilar fundamental para la toma de decisiones estratégicas en las organizaciones modernas. En un entorno cada vez más competitivo y digital, las empresas que aprovechan eficientemente sus datos pueden anticiparse a las tendencias del mercado, optimizar sus procesos y ofrecer soluciones más personalizadas. Este enfoque no solo mejora la eficiencia operativa, sino que proyecta el análisis de datos como una herramienta clave para el crecimiento sostenible y la innovación en el futuro de las organizaciones."
   ]
  },
  {
   "cell_type": "markdown",
   "id": "decd7887-e622-4f9b-9856-656aeb349a4a",
   "metadata": {},
   "source": [
    "#### Primero que todo guardemos este notebook"
   ]
  },
  {
   "cell_type": "markdown",
   "id": "f17d5963-a641-41fa-ac5a-ff81d87fd87a",
   "metadata": {},
   "source": [
    "Importando la libreria \"OS\" colocamos la ruta adonde quedará almacenado este notebook, cuidando que quede el doble backslash, por ejemplo si va a quedar almacenado en la carpeta  \"Practicas\" dentro de mis documentos sería algo como : \"C:\\\\usuario\\\\Bibliotecas\\\\Documentos\\\\Practicas\""
   ]
  },
  {
   "cell_type": "code",
   "execution_count": 4,
   "id": "11ba0a5b-9ca3-4c7b-828f-04ca250bfad3",
   "metadata": {},
   "outputs": [],
   "source": [
    "import os \n",
    "os.chdir (\"E:\\Toshiba\\Repositorio\\Practicas-Academicas\\Analisis-datos\")"
   ]
  },
  {
   "cell_type": "code",
   "execution_count": 6,
   "id": "a41f760e-a17d-4128-b179-167314e04694",
   "metadata": {},
   "outputs": [
    {
     "data": {
      "text/plain": [
       "'E:\\\\Toshiba\\\\Repositorio\\\\Practicas-Academicas\\\\Analisis-datos'"
      ]
     },
     "execution_count": 6,
     "metadata": {},
     "output_type": "execute_result"
    }
   ],
   "source": [
    "os.getcwd()"
   ]
  },
  {
   "cell_type": "code",
   "execution_count": null,
   "id": "7675e475-53ba-42fb-a288-11c171a91e6b",
   "metadata": {},
   "outputs": [],
   "source": []
  }
 ],
 "metadata": {
  "kernelspec": {
   "display_name": "Python [conda env:base] *",
   "language": "python",
   "name": "conda-base-py"
  },
  "language_info": {
   "codemirror_mode": {
    "name": "ipython",
    "version": 3
   },
   "file_extension": ".py",
   "mimetype": "text/x-python",
   "name": "python",
   "nbconvert_exporter": "python",
   "pygments_lexer": "ipython3",
   "version": "3.11.5"
  }
 },
 "nbformat": 4,
 "nbformat_minor": 5
}
